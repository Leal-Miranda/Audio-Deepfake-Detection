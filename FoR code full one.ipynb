{
 "cells": [
  {
   "cell_type": "markdown",
   "id": "a4520435",
   "metadata": {},
   "source": [
    "# Imports"
   ]
  },
  {
   "cell_type": "code",
   "execution_count": 1,
   "id": "71691a46",
   "metadata": {
    "scrolled": true
   },
   "outputs": [],
   "source": [
    "import os\n",
    "import numpy as np\n",
    "import pandas as pd\n",
    "from pandas import*\n",
    "import librosa\n",
    "import tensorflow as tf\n",
    "from tensorflow.keras.layers import Input, Conv2D, MaxPooling2D, Flatten, Dense, Dropout\n",
    "from tensorflow.keras.models import Model\n",
    "from tensorflow.keras.utils import to_categorical\n",
    "import json\n",
    "from sklearn import*\n",
    "import matplotlib.pyplot as plt\n",
    "from sklearn.metrics import *\n",
    "import matplotlib.pyplot as plt\n",
    "import matplotlib.image as mpimg\n",
    "from tensorflow import keras\n",
    "from tensorflow.keras.preprocessing.image import ImageDataGenerator\n",
    "from tensorflow.keras.models import Sequential, Model\n",
    "from tensorflow.keras.optimizers import RMSprop,Adam\n",
    "from tensorflow.keras.layers import Activation, Dropout, Flatten, Dense, GlobalMaxPooling2D, Conv2D, MaxPooling2D,BatchNormalization\n",
    "from tensorflow.keras.callbacks import CSVLogger\n",
    "from keras.callbacks import EarlyStopping"
   ]
  },
  {
   "cell_type": "markdown",
   "id": "41a53d7f",
   "metadata": {},
   "source": [
    "# Reading the dataset and classifying as real and fake"
   ]
  },
  {
   "cell_type": "code",
   "execution_count": 2,
   "id": "08afbcbe",
   "metadata": {},
   "outputs": [],
   "source": [
    "# Define paths and parameters\n",
    "NUM_CLASSES = 2  # Number of classes (bonafide and spoof)\n",
    "SAMPLE_RATE = 44100  # Sample rate of your audio files\n",
    "DURATION = 5  # Duration of audio clips in seconds\n",
    "N_MELS = 128  # Number of Mel frequency bins"
   ]
  },
  {
   "cell_type": "code",
   "execution_count": 3,
   "id": "d65a346f",
   "metadata": {},
   "outputs": [
    {
     "name": "stdout",
     "output_type": "stream",
     "text": [
      "D:\\Users\\Leal\\Desktop\\MSc ASA\\Semester 3\\Data Driven Analytics - 3\n"
     ]
    }
   ],
   "source": [
    "cd D:\\Users\\Leal\\Desktop\\MSc ASA\\Semester 3\\Data Driven Analytics - 3"
   ]
  },
  {
   "cell_type": "code",
   "execution_count": 4,
   "id": "5af0de8c",
   "metadata": {
    "collapsed": true
   },
   "outputs": [],
   "source": [
    "data=pd.read_csv('Audio Data.csv')"
   ]
  },
  {
   "cell_type": "code",
   "execution_count": 5,
   "id": "21cc7997",
   "metadata": {},
   "outputs": [
    {
     "data": {
      "text/html": [
       "<div>\n",
       "<style scoped>\n",
       "    .dataframe tbody tr th:only-of-type {\n",
       "        vertical-align: middle;\n",
       "    }\n",
       "\n",
       "    .dataframe tbody tr th {\n",
       "        vertical-align: top;\n",
       "    }\n",
       "\n",
       "    .dataframe thead th {\n",
       "        text-align: right;\n",
       "    }\n",
       "</style>\n",
       "<table border=\"1\" class=\"dataframe\">\n",
       "  <thead>\n",
       "    <tr style=\"text-align: right;\">\n",
       "      <th></th>\n",
       "      <th>Unnamed: 0</th>\n",
       "      <th>file</th>\n",
       "      <th>melspectrogram</th>\n",
       "      <th>label</th>\n",
       "    </tr>\n",
       "  </thead>\n",
       "  <tbody>\n",
       "    <tr>\n",
       "      <th>0</th>\n",
       "      <td>0</td>\n",
       "      <td>file1000.wav_16k.wav_norm.wav_mono.wav_silence...</td>\n",
       "      <td>[[-15.024648666381836, -9.630731582641602, -7....</td>\n",
       "      <td>1.0</td>\n",
       "    </tr>\n",
       "    <tr>\n",
       "      <th>1</th>\n",
       "      <td>1</td>\n",
       "      <td>file10003.wav_16k.wav_norm.wav_mono.wav_silenc...</td>\n",
       "      <td>[[-21.11977767944336, -23.317171096801758, -6....</td>\n",
       "      <td>1.0</td>\n",
       "    </tr>\n",
       "    <tr>\n",
       "      <th>2</th>\n",
       "      <td>2</td>\n",
       "      <td>file10006.wav_16k.wav_norm.wav_mono.wav_silenc...</td>\n",
       "      <td>[[-40.6443977355957, -40.774723052978516, -32....</td>\n",
       "      <td>1.0</td>\n",
       "    </tr>\n",
       "    <tr>\n",
       "      <th>3</th>\n",
       "      <td>3</td>\n",
       "      <td>file10009.wav_16k.wav_norm.wav_mono.wav_silenc...</td>\n",
       "      <td>[[-24.780620574951172, -24.126808166503906, -3...</td>\n",
       "      <td>1.0</td>\n",
       "    </tr>\n",
       "    <tr>\n",
       "      <th>4</th>\n",
       "      <td>4</td>\n",
       "      <td>file10010.wav_16k.wav_norm.wav_mono.wav_silenc...</td>\n",
       "      <td>[[-19.424327850341797, -15.416473388671875, -1...</td>\n",
       "      <td>1.0</td>\n",
       "    </tr>\n",
       "    <tr>\n",
       "      <th>...</th>\n",
       "      <td>...</td>\n",
       "      <td>...</td>\n",
       "      <td>...</td>\n",
       "      <td>...</td>\n",
       "    </tr>\n",
       "    <tr>\n",
       "      <th>17865</th>\n",
       "      <td>2821</td>\n",
       "      <td>file9893.mp3.wav_16k.wav_norm.wav_mono.wav_sil...</td>\n",
       "      <td>[[-28.31854248046875, -12.01828384399414, -3.1...</td>\n",
       "      <td>0.0</td>\n",
       "    </tr>\n",
       "    <tr>\n",
       "      <th>17866</th>\n",
       "      <td>2822</td>\n",
       "      <td>file9913.mp3.wav_16k.wav_norm.wav_mono.wav_sil...</td>\n",
       "      <td>[[-25.881887435913086, -19.857664108276367, -5...</td>\n",
       "      <td>0.0</td>\n",
       "    </tr>\n",
       "    <tr>\n",
       "      <th>17867</th>\n",
       "      <td>2823</td>\n",
       "      <td>file9914.mp3.wav_16k.wav_norm.wav_mono.wav_sil...</td>\n",
       "      <td>[[-16.290851593017578, -15.090450286865234, -1...</td>\n",
       "      <td>0.0</td>\n",
       "    </tr>\n",
       "    <tr>\n",
       "      <th>17868</th>\n",
       "      <td>2824</td>\n",
       "      <td>file9919.mp3.wav_16k.wav_norm.wav_mono.wav_sil...</td>\n",
       "      <td>[[-28.000652313232422, -33.31414794921875, -17...</td>\n",
       "      <td>0.0</td>\n",
       "    </tr>\n",
       "    <tr>\n",
       "      <th>17869</th>\n",
       "      <td>2825</td>\n",
       "      <td>file9962.mp3.wav_16k.wav_norm.wav_mono.wav_sil...</td>\n",
       "      <td>[[-19.71599769592285, -16.89149284362793, -18....</td>\n",
       "      <td>0.0</td>\n",
       "    </tr>\n",
       "  </tbody>\n",
       "</table>\n",
       "<p>17870 rows × 4 columns</p>\n",
       "</div>"
      ],
      "text/plain": [
       "       Unnamed: 0                                               file  \\\n",
       "0               0  file1000.wav_16k.wav_norm.wav_mono.wav_silence...   \n",
       "1               1  file10003.wav_16k.wav_norm.wav_mono.wav_silenc...   \n",
       "2               2  file10006.wav_16k.wav_norm.wav_mono.wav_silenc...   \n",
       "3               3  file10009.wav_16k.wav_norm.wav_mono.wav_silenc...   \n",
       "4               4  file10010.wav_16k.wav_norm.wav_mono.wav_silenc...   \n",
       "...           ...                                                ...   \n",
       "17865        2821  file9893.mp3.wav_16k.wav_norm.wav_mono.wav_sil...   \n",
       "17866        2822  file9913.mp3.wav_16k.wav_norm.wav_mono.wav_sil...   \n",
       "17867        2823  file9914.mp3.wav_16k.wav_norm.wav_mono.wav_sil...   \n",
       "17868        2824  file9919.mp3.wav_16k.wav_norm.wav_mono.wav_sil...   \n",
       "17869        2825  file9962.mp3.wav_16k.wav_norm.wav_mono.wav_sil...   \n",
       "\n",
       "                                          melspectrogram  label  \n",
       "0      [[-15.024648666381836, -9.630731582641602, -7....    1.0  \n",
       "1      [[-21.11977767944336, -23.317171096801758, -6....    1.0  \n",
       "2      [[-40.6443977355957, -40.774723052978516, -32....    1.0  \n",
       "3      [[-24.780620574951172, -24.126808166503906, -3...    1.0  \n",
       "4      [[-19.424327850341797, -15.416473388671875, -1...    1.0  \n",
       "...                                                  ...    ...  \n",
       "17865  [[-28.31854248046875, -12.01828384399414, -3.1...    0.0  \n",
       "17866  [[-25.881887435913086, -19.857664108276367, -5...    0.0  \n",
       "17867  [[-16.290851593017578, -15.090450286865234, -1...    0.0  \n",
       "17868  [[-28.000652313232422, -33.31414794921875, -17...    0.0  \n",
       "17869  [[-19.71599769592285, -16.89149284362793, -18....    0.0  \n",
       "\n",
       "[17870 rows x 4 columns]"
      ]
     },
     "execution_count": 5,
     "metadata": {},
     "output_type": "execute_result"
    }
   ],
   "source": [
    "data"
   ]
  },
  {
   "cell_type": "code",
   "execution_count": 6,
   "id": "11b2dc4a",
   "metadata": {},
   "outputs": [],
   "source": [
    "real_dataframe=data[data['label']==1]"
   ]
  },
  {
   "cell_type": "code",
   "execution_count": 7,
   "id": "b20382a7",
   "metadata": {},
   "outputs": [],
   "source": [
    "real_dataframe=real_dataframe.reset_index()"
   ]
  },
  {
   "cell_type": "code",
   "execution_count": 8,
   "id": "add4bd14",
   "metadata": {},
   "outputs": [
    {
     "data": {
      "text/html": [
       "<div>\n",
       "<style scoped>\n",
       "    .dataframe tbody tr th:only-of-type {\n",
       "        vertical-align: middle;\n",
       "    }\n",
       "\n",
       "    .dataframe tbody tr th {\n",
       "        vertical-align: top;\n",
       "    }\n",
       "\n",
       "    .dataframe thead th {\n",
       "        text-align: right;\n",
       "    }\n",
       "</style>\n",
       "<table border=\"1\" class=\"dataframe\">\n",
       "  <thead>\n",
       "    <tr style=\"text-align: right;\">\n",
       "      <th></th>\n",
       "      <th>index</th>\n",
       "      <th>Unnamed: 0</th>\n",
       "      <th>file</th>\n",
       "      <th>melspectrogram</th>\n",
       "      <th>label</th>\n",
       "    </tr>\n",
       "  </thead>\n",
       "  <tbody>\n",
       "    <tr>\n",
       "      <th>0</th>\n",
       "      <td>0</td>\n",
       "      <td>0</td>\n",
       "      <td>file1000.wav_16k.wav_norm.wav_mono.wav_silence...</td>\n",
       "      <td>[[-15.024648666381836, -9.630731582641602, -7....</td>\n",
       "      <td>1.0</td>\n",
       "    </tr>\n",
       "    <tr>\n",
       "      <th>1</th>\n",
       "      <td>1</td>\n",
       "      <td>1</td>\n",
       "      <td>file10003.wav_16k.wav_norm.wav_mono.wav_silenc...</td>\n",
       "      <td>[[-21.11977767944336, -23.317171096801758, -6....</td>\n",
       "      <td>1.0</td>\n",
       "    </tr>\n",
       "    <tr>\n",
       "      <th>2</th>\n",
       "      <td>2</td>\n",
       "      <td>2</td>\n",
       "      <td>file10006.wav_16k.wav_norm.wav_mono.wav_silenc...</td>\n",
       "      <td>[[-40.6443977355957, -40.774723052978516, -32....</td>\n",
       "      <td>1.0</td>\n",
       "    </tr>\n",
       "    <tr>\n",
       "      <th>3</th>\n",
       "      <td>3</td>\n",
       "      <td>3</td>\n",
       "      <td>file10009.wav_16k.wav_norm.wav_mono.wav_silenc...</td>\n",
       "      <td>[[-24.780620574951172, -24.126808166503906, -3...</td>\n",
       "      <td>1.0</td>\n",
       "    </tr>\n",
       "    <tr>\n",
       "      <th>4</th>\n",
       "      <td>4</td>\n",
       "      <td>4</td>\n",
       "      <td>file10010.wav_16k.wav_norm.wav_mono.wav_silenc...</td>\n",
       "      <td>[[-19.424327850341797, -15.416473388671875, -1...</td>\n",
       "      <td>1.0</td>\n",
       "    </tr>\n",
       "    <tr>\n",
       "      <th>...</th>\n",
       "      <td>...</td>\n",
       "      <td>...</td>\n",
       "      <td>...</td>\n",
       "      <td>...</td>\n",
       "      <td>...</td>\n",
       "    </tr>\n",
       "    <tr>\n",
       "      <th>8930</th>\n",
       "      <td>16452</td>\n",
       "      <td>1408</td>\n",
       "      <td>file9940.wav_16k.wav_norm.wav_mono.wav_silence...</td>\n",
       "      <td>[[-17.057231903076172, -5.793543338775635, -9....</td>\n",
       "      <td>1.0</td>\n",
       "    </tr>\n",
       "    <tr>\n",
       "      <th>8931</th>\n",
       "      <td>16453</td>\n",
       "      <td>1409</td>\n",
       "      <td>file9945.wav_16k.wav_norm.wav_mono.wav_silence...</td>\n",
       "      <td>[[-20.95789337158203, -23.10790252685547, -15....</td>\n",
       "      <td>1.0</td>\n",
       "    </tr>\n",
       "    <tr>\n",
       "      <th>8932</th>\n",
       "      <td>16454</td>\n",
       "      <td>1410</td>\n",
       "      <td>file9969.wav_16k.wav_norm.wav_mono.wav_silence...</td>\n",
       "      <td>[[-25.85365867614746, -26.072376251220703, -35...</td>\n",
       "      <td>1.0</td>\n",
       "    </tr>\n",
       "    <tr>\n",
       "      <th>8933</th>\n",
       "      <td>16455</td>\n",
       "      <td>1411</td>\n",
       "      <td>file9974.wav_16k.wav_norm.wav_mono.wav_silence...</td>\n",
       "      <td>[[-22.15683937072754, -8.394891738891602, -10....</td>\n",
       "      <td>1.0</td>\n",
       "    </tr>\n",
       "    <tr>\n",
       "      <th>8934</th>\n",
       "      <td>16456</td>\n",
       "      <td>1412</td>\n",
       "      <td>file9984.wav_16k.wav_norm.wav_mono.wav_silence...</td>\n",
       "      <td>[[-25.3612060546875, -9.717548370361328, -3.83...</td>\n",
       "      <td>1.0</td>\n",
       "    </tr>\n",
       "  </tbody>\n",
       "</table>\n",
       "<p>8935 rows × 5 columns</p>\n",
       "</div>"
      ],
      "text/plain": [
       "      index  Unnamed: 0                                               file  \\\n",
       "0         0           0  file1000.wav_16k.wav_norm.wav_mono.wav_silence...   \n",
       "1         1           1  file10003.wav_16k.wav_norm.wav_mono.wav_silenc...   \n",
       "2         2           2  file10006.wav_16k.wav_norm.wav_mono.wav_silenc...   \n",
       "3         3           3  file10009.wav_16k.wav_norm.wav_mono.wav_silenc...   \n",
       "4         4           4  file10010.wav_16k.wav_norm.wav_mono.wav_silenc...   \n",
       "...     ...         ...                                                ...   \n",
       "8930  16452        1408  file9940.wav_16k.wav_norm.wav_mono.wav_silence...   \n",
       "8931  16453        1409  file9945.wav_16k.wav_norm.wav_mono.wav_silence...   \n",
       "8932  16454        1410  file9969.wav_16k.wav_norm.wav_mono.wav_silence...   \n",
       "8933  16455        1411  file9974.wav_16k.wav_norm.wav_mono.wav_silence...   \n",
       "8934  16456        1412  file9984.wav_16k.wav_norm.wav_mono.wav_silence...   \n",
       "\n",
       "                                         melspectrogram  label  \n",
       "0     [[-15.024648666381836, -9.630731582641602, -7....    1.0  \n",
       "1     [[-21.11977767944336, -23.317171096801758, -6....    1.0  \n",
       "2     [[-40.6443977355957, -40.774723052978516, -32....    1.0  \n",
       "3     [[-24.780620574951172, -24.126808166503906, -3...    1.0  \n",
       "4     [[-19.424327850341797, -15.416473388671875, -1...    1.0  \n",
       "...                                                 ...    ...  \n",
       "8930  [[-17.057231903076172, -5.793543338775635, -9....    1.0  \n",
       "8931  [[-20.95789337158203, -23.10790252685547, -15....    1.0  \n",
       "8932  [[-25.85365867614746, -26.072376251220703, -35...    1.0  \n",
       "8933  [[-22.15683937072754, -8.394891738891602, -10....    1.0  \n",
       "8934  [[-25.3612060546875, -9.717548370361328, -3.83...    1.0  \n",
       "\n",
       "[8935 rows x 5 columns]"
      ]
     },
     "execution_count": 8,
     "metadata": {},
     "output_type": "execute_result"
    }
   ],
   "source": [
    "real_dataframe"
   ]
  },
  {
   "cell_type": "code",
   "execution_count": 9,
   "id": "979c0874",
   "metadata": {},
   "outputs": [],
   "source": [
    "fake_dataframe=data[data['label']==0]"
   ]
  },
  {
   "cell_type": "code",
   "execution_count": 10,
   "id": "7027a494",
   "metadata": {},
   "outputs": [],
   "source": [
    "fake_dataframe=fake_dataframe.reset_index()"
   ]
  },
  {
   "cell_type": "code",
   "execution_count": 11,
   "id": "0394495c",
   "metadata": {},
   "outputs": [
    {
     "data": {
      "text/html": [
       "<div>\n",
       "<style scoped>\n",
       "    .dataframe tbody tr th:only-of-type {\n",
       "        vertical-align: middle;\n",
       "    }\n",
       "\n",
       "    .dataframe tbody tr th {\n",
       "        vertical-align: top;\n",
       "    }\n",
       "\n",
       "    .dataframe thead th {\n",
       "        text-align: right;\n",
       "    }\n",
       "</style>\n",
       "<table border=\"1\" class=\"dataframe\">\n",
       "  <thead>\n",
       "    <tr style=\"text-align: right;\">\n",
       "      <th></th>\n",
       "      <th>index</th>\n",
       "      <th>Unnamed: 0</th>\n",
       "      <th>file</th>\n",
       "      <th>melspectrogram</th>\n",
       "      <th>label</th>\n",
       "    </tr>\n",
       "  </thead>\n",
       "  <tbody>\n",
       "    <tr>\n",
       "      <th>0</th>\n",
       "      <td>6978</td>\n",
       "      <td>6978</td>\n",
       "      <td>file10005.mp3.wav_16k.wav_norm.wav_mono.wav_si...</td>\n",
       "      <td>[[-38.33302307128906, -32.66326141357422, -5.1...</td>\n",
       "      <td>0.0</td>\n",
       "    </tr>\n",
       "    <tr>\n",
       "      <th>1</th>\n",
       "      <td>6979</td>\n",
       "      <td>6979</td>\n",
       "      <td>file10007.mp3.wav_16k.wav_norm.wav_mono.wav_si...</td>\n",
       "      <td>[[-21.484039306640625, -12.57840347290039, -2....</td>\n",
       "      <td>0.0</td>\n",
       "    </tr>\n",
       "    <tr>\n",
       "      <th>2</th>\n",
       "      <td>6980</td>\n",
       "      <td>6980</td>\n",
       "      <td>file10009.mp3.wav_16k.wav_norm.wav_mono.wav_si...</td>\n",
       "      <td>[[-18.21822166442871, -13.968538284301758, -20...</td>\n",
       "      <td>0.0</td>\n",
       "    </tr>\n",
       "    <tr>\n",
       "      <th>3</th>\n",
       "      <td>6981</td>\n",
       "      <td>6981</td>\n",
       "      <td>file10010.mp3.wav_16k.wav_norm.wav_mono.wav_si...</td>\n",
       "      <td>[[-15.390536308288574, -13.715254783630371, -1...</td>\n",
       "      <td>0.0</td>\n",
       "    </tr>\n",
       "    <tr>\n",
       "      <th>4</th>\n",
       "      <td>6982</td>\n",
       "      <td>6982</td>\n",
       "      <td>file10015.mp3.wav_16k.wav_norm.wav_mono.wav_si...</td>\n",
       "      <td>[[-37.87236022949219, -13.042974472045898, -24...</td>\n",
       "      <td>0.0</td>\n",
       "    </tr>\n",
       "    <tr>\n",
       "      <th>...</th>\n",
       "      <td>...</td>\n",
       "      <td>...</td>\n",
       "      <td>...</td>\n",
       "      <td>...</td>\n",
       "      <td>...</td>\n",
       "    </tr>\n",
       "    <tr>\n",
       "      <th>8930</th>\n",
       "      <td>17865</td>\n",
       "      <td>2821</td>\n",
       "      <td>file9893.mp3.wav_16k.wav_norm.wav_mono.wav_sil...</td>\n",
       "      <td>[[-28.31854248046875, -12.01828384399414, -3.1...</td>\n",
       "      <td>0.0</td>\n",
       "    </tr>\n",
       "    <tr>\n",
       "      <th>8931</th>\n",
       "      <td>17866</td>\n",
       "      <td>2822</td>\n",
       "      <td>file9913.mp3.wav_16k.wav_norm.wav_mono.wav_sil...</td>\n",
       "      <td>[[-25.881887435913086, -19.857664108276367, -5...</td>\n",
       "      <td>0.0</td>\n",
       "    </tr>\n",
       "    <tr>\n",
       "      <th>8932</th>\n",
       "      <td>17867</td>\n",
       "      <td>2823</td>\n",
       "      <td>file9914.mp3.wav_16k.wav_norm.wav_mono.wav_sil...</td>\n",
       "      <td>[[-16.290851593017578, -15.090450286865234, -1...</td>\n",
       "      <td>0.0</td>\n",
       "    </tr>\n",
       "    <tr>\n",
       "      <th>8933</th>\n",
       "      <td>17868</td>\n",
       "      <td>2824</td>\n",
       "      <td>file9919.mp3.wav_16k.wav_norm.wav_mono.wav_sil...</td>\n",
       "      <td>[[-28.000652313232422, -33.31414794921875, -17...</td>\n",
       "      <td>0.0</td>\n",
       "    </tr>\n",
       "    <tr>\n",
       "      <th>8934</th>\n",
       "      <td>17869</td>\n",
       "      <td>2825</td>\n",
       "      <td>file9962.mp3.wav_16k.wav_norm.wav_mono.wav_sil...</td>\n",
       "      <td>[[-19.71599769592285, -16.89149284362793, -18....</td>\n",
       "      <td>0.0</td>\n",
       "    </tr>\n",
       "  </tbody>\n",
       "</table>\n",
       "<p>8935 rows × 5 columns</p>\n",
       "</div>"
      ],
      "text/plain": [
       "      index  Unnamed: 0                                               file  \\\n",
       "0      6978        6978  file10005.mp3.wav_16k.wav_norm.wav_mono.wav_si...   \n",
       "1      6979        6979  file10007.mp3.wav_16k.wav_norm.wav_mono.wav_si...   \n",
       "2      6980        6980  file10009.mp3.wav_16k.wav_norm.wav_mono.wav_si...   \n",
       "3      6981        6981  file10010.mp3.wav_16k.wav_norm.wav_mono.wav_si...   \n",
       "4      6982        6982  file10015.mp3.wav_16k.wav_norm.wav_mono.wav_si...   \n",
       "...     ...         ...                                                ...   \n",
       "8930  17865        2821  file9893.mp3.wav_16k.wav_norm.wav_mono.wav_sil...   \n",
       "8931  17866        2822  file9913.mp3.wav_16k.wav_norm.wav_mono.wav_sil...   \n",
       "8932  17867        2823  file9914.mp3.wav_16k.wav_norm.wav_mono.wav_sil...   \n",
       "8933  17868        2824  file9919.mp3.wav_16k.wav_norm.wav_mono.wav_sil...   \n",
       "8934  17869        2825  file9962.mp3.wav_16k.wav_norm.wav_mono.wav_sil...   \n",
       "\n",
       "                                         melspectrogram  label  \n",
       "0     [[-38.33302307128906, -32.66326141357422, -5.1...    0.0  \n",
       "1     [[-21.484039306640625, -12.57840347290039, -2....    0.0  \n",
       "2     [[-18.21822166442871, -13.968538284301758, -20...    0.0  \n",
       "3     [[-15.390536308288574, -13.715254783630371, -1...    0.0  \n",
       "4     [[-37.87236022949219, -13.042974472045898, -24...    0.0  \n",
       "...                                                 ...    ...  \n",
       "8930  [[-28.31854248046875, -12.01828384399414, -3.1...    0.0  \n",
       "8931  [[-25.881887435913086, -19.857664108276367, -5...    0.0  \n",
       "8932  [[-16.290851593017578, -15.090450286865234, -1...    0.0  \n",
       "8933  [[-28.000652313232422, -33.31414794921875, -17...    0.0  \n",
       "8934  [[-19.71599769592285, -16.89149284362793, -18....    0.0  \n",
       "\n",
       "[8935 rows x 5 columns]"
      ]
     },
     "execution_count": 11,
     "metadata": {},
     "output_type": "execute_result"
    }
   ],
   "source": [
    "fake_dataframe"
   ]
  },
  {
   "cell_type": "markdown",
   "id": "f3f1de81",
   "metadata": {},
   "source": [
    "# Splitting the dataset into train and test"
   ]
  },
  {
   "cell_type": "code",
   "execution_count": 12,
   "id": "b9116a09",
   "metadata": {},
   "outputs": [],
   "source": [
    "# Example data where 'fake_data' and 'real_data' are your data points\n",
    "fake_data = fake_dataframe\n",
    "real_data = real_dataframe"
   ]
  },
  {
   "cell_type": "code",
   "execution_count": 13,
   "id": "3d03bda7",
   "metadata": {},
   "outputs": [],
   "source": [
    "# Shuffling the rows of the datasets\n",
    "real_data=real_data.sample(frac=1, random_state=42)\n",
    "fake_data=fake_data.sample(frac=1, random_state=42)"
   ]
  },
  {
   "cell_type": "code",
   "execution_count": 14,
   "id": "f48ad45b",
   "metadata": {},
   "outputs": [
    {
     "name": "stdout",
     "output_type": "stream",
     "text": [
      "Total rows in fake data:  8935\n",
      "Total rows in fake training data:  6254\n",
      "Total rows in fake testing data:  2681\n",
      "Total rows in real data:  8935\n",
      "Total rows in real training data:  6254\n",
      "Total rows in real testing data:  2681\n"
     ]
    }
   ],
   "source": [
    "#Finding the 70% and 30% values in the datasets\n",
    "n_total_fake = len(fake_data)\n",
    "n_total_real = len(real_data)\n",
    "n_train_fake = round((n_total_fake)*0.7)\n",
    "n_test_fake = n_total_fake - n_train_fake\n",
    "n_train_real = round((n_total_real) * 0.7)\n",
    "n_test_real = n_total_real - n_train_real\n",
    "print(\"Total rows in fake data: \",n_total_fake)\n",
    "print(\"Total rows in fake training data: \",n_train_fake)\n",
    "print(\"Total rows in fake testing data: \",n_test_fake)\n",
    "print(\"Total rows in real data: \",n_total_real)\n",
    "print(\"Total rows in real training data: \",n_train_real)\n",
    "print(\"Total rows in real testing data: \",n_test_real)"
   ]
  },
  {
   "cell_type": "code",
   "execution_count": 15,
   "id": "e443a697",
   "metadata": {},
   "outputs": [
    {
     "name": "stdout",
     "output_type": "stream",
     "text": [
      "(6254, 5)\n",
      "(2681, 5)\n",
      "(6254, 5)\n",
      "(2681, 5)\n"
     ]
    }
   ],
   "source": [
    "# Slicing the dataframes for the training and test sets\n",
    "fake_train = fake_data.iloc[:n_train_fake]\n",
    "fake_test = fake_data.iloc[n_train_fake:]\n",
    "real_train = real_data.iloc[:n_train_real]\n",
    "real_test = real_data.iloc[n_train_real:]\n",
    "print(fake_train.shape)\n",
    "print(fake_test.shape)\n",
    "print(real_train.shape)\n",
    "print(real_test.shape)\n"
   ]
  },
  {
   "cell_type": "code",
   "execution_count": 16,
   "id": "30878225",
   "metadata": {},
   "outputs": [],
   "source": [
    "#Concatenating both the real and fake to make the training and test dataframes\n",
    "traindataframe = pd.concat([fake_train, real_train], ignore_index=True)\n",
    "testdataframe = pd.concat([fake_test, real_test], ignore_index=True)"
   ]
  },
  {
   "cell_type": "code",
   "execution_count": 17,
   "id": "1a609d30",
   "metadata": {},
   "outputs": [
    {
     "name": "stdout",
     "output_type": "stream",
     "text": [
      "Shape of training dataframe (12508, 5)\n",
      "Shape of real values in training dataframe (6254, 5)\n",
      "Shape of fake values in training dataframe (6254, 5)\n",
      "Shape of test dataframe (5362, 5)\n",
      "Shape of real values in test dataframe (2681, 5)\n",
      "Shape of fake values in test dataframe (2681, 5)\n"
     ]
    }
   ],
   "source": [
    "print(\"Shape of training dataframe\",traindataframe.shape)\n",
    "print(\"Shape of real values in training dataframe\",traindataframe[traindataframe['label']==1].shape)\n",
    "print(\"Shape of fake values in training dataframe\",traindataframe[traindataframe['label']==0].shape)\n",
    "\n",
    "print(\"Shape of test dataframe\",testdataframe.shape)\n",
    "print(\"Shape of real values in test dataframe\",testdataframe[testdataframe['label']==1].shape)\n",
    "print(\"Shape of fake values in test dataframe\",testdataframe[testdataframe['label']==0].shape)\n",
    "#17870 is the total rows"
   ]
  },
  {
   "cell_type": "markdown",
   "id": "7e250544",
   "metadata": {},
   "source": [
    "# Converting melspectrogram values into arrays in both train and test "
   ]
  },
  {
   "cell_type": "code",
   "execution_count": 18,
   "id": "18ef0ff6",
   "metadata": {},
   "outputs": [],
   "source": [
    "l=[]\n",
    "for i in range(0,len(traindataframe)):\n",
    "    a=traindataframe['melspectrogram'][i]\n",
    "    res=json.loads(a)\n",
    "    l.append(res)\n",
    "X_train = np.array(l)"
   ]
  },
  {
   "cell_type": "code",
   "execution_count": 19,
   "id": "3dafd925",
   "metadata": {},
   "outputs": [],
   "source": [
    "Y=traindataframe['label']\n",
    "intY = [int(num) for num in Y]\n",
    "y_train=np.array(intY)\n",
    "y_train_encoded = to_categorical(y_train, NUM_CLASSES)"
   ]
  },
  {
   "cell_type": "code",
   "execution_count": 20,
   "id": "6ef80f47",
   "metadata": {},
   "outputs": [
    {
     "name": "stdout",
     "output_type": "stream",
     "text": [
      "Shape of the training melspectrogram array:  (12508, 10, 109)\n",
      "Shape of the training label array:  (12508, 2)\n"
     ]
    }
   ],
   "source": [
    "print(\"Shape of the training melspectrogram array: \",X_train.shape)\n",
    "print(\"Shape of the training label array: \",y_train_encoded.shape)"
   ]
  },
  {
   "cell_type": "code",
   "execution_count": 21,
   "id": "6a8415d4",
   "metadata": {},
   "outputs": [],
   "source": [
    "l=[]\n",
    "for i in range(0,len(testdataframe)):\n",
    "    a=testdataframe['melspectrogram'][i]\n",
    "    res=json.loads(a)\n",
    "    l.append(res)\n",
    "X_test = np.array(l)"
   ]
  },
  {
   "cell_type": "code",
   "execution_count": 22,
   "id": "9d2a9129",
   "metadata": {},
   "outputs": [],
   "source": [
    "Y=testdataframe['label']\n",
    "intY = [int(num) for num in Y]\n",
    "y_test=np.array(intY)\n",
    "y_test_encoded = to_categorical(y_test, NUM_CLASSES)"
   ]
  },
  {
   "cell_type": "code",
   "execution_count": 23,
   "id": "5a88031b",
   "metadata": {},
   "outputs": [
    {
     "name": "stdout",
     "output_type": "stream",
     "text": [
      "Shape of the testing melspectrogram array:  (5362, 10, 109)\n",
      "Shape of the testing label array:  (5362, 2)\n"
     ]
    }
   ],
   "source": [
    "print(\"Shape of the testing melspectrogram array: \",X_test.shape)\n",
    "print(\"Shape of the testing label array: \",y_test_encoded.shape)"
   ]
  },
  {
   "cell_type": "markdown",
   "id": "f1aa6f1a",
   "metadata": {},
   "source": [
    "# Defining the model architecture"
   ]
  },
  {
   "cell_type": "code",
   "execution_count": 24,
   "id": "42373148",
   "metadata": {},
   "outputs": [],
   "source": [
    "# Define CNN model architecture\n",
    "input_shape = (10, 109,1)  # Input shape for CNN (height, width, channels)\n",
    "model_input = Input(shape=input_shape)"
   ]
  },
  {
   "cell_type": "code",
   "execution_count": 25,
   "id": "242d1fe0",
   "metadata": {
    "collapsed": true
   },
   "outputs": [
    {
     "name": "stdout",
     "output_type": "stream",
     "text": [
      "Model: \"sequential\"\n",
      "_________________________________________________________________\n",
      " Layer (type)                Output Shape              Param #   \n",
      "=================================================================\n",
      " conv1d (Conv1D)             (None, 8, 32)             10496     \n",
      "                                                                 \n",
      " conv1d_1 (Conv1D)           (None, 6, 64)             6208      \n",
      "                                                                 \n",
      " max_pooling1d (MaxPooling1  (None, 3, 64)             0         \n",
      " D)                                                              \n",
      "                                                                 \n",
      " flatten (Flatten)           (None, 192)               0         \n",
      "                                                                 \n",
      " dense (Dense)               (None, 128)               24704     \n",
      "                                                                 \n",
      " dropout (Dropout)           (None, 128)               0         \n",
      "                                                                 \n",
      " dense_1 (Dense)             (None, 2)                 258       \n",
      "                                                                 \n",
      "=================================================================\n",
      "Total params: 41666 (162.76 KB)\n",
      "Trainable params: 41666 (162.76 KB)\n",
      "Non-trainable params: 0 (0.00 Byte)\n",
      "_________________________________________________________________\n"
     ]
    }
   ],
   "source": [
    "# 1D CNN model\n",
    "import tensorflow as tf\n",
    "from tensorflow.keras import layers, models\n",
    "\n",
    "# Define the model\n",
    "model = models.Sequential()\n",
    "\n",
    "# Convolutional layers\n",
    "model.add(layers.Conv1D(32, kernel_size=3, activation='relu', input_shape=(10, 109)))\n",
    "#model.add(layers.MaxPooling1D(pool_size=2))\n",
    "model.add(layers.Conv1D(64, kernel_size=3, activation='relu'))\n",
    "model.add(layers.MaxPooling1D(pool_size=2))\n",
    "\n",
    "# Flatten the output for the fully connected layers\n",
    "model.add(layers.Flatten())\n",
    "\n",
    "# Fully connected layers\n",
    "model.add(layers.Dense(128, activation='relu'))\n",
    "model.add(layers.Dropout(0.5))  # Dropout layer for regularization\n",
    "model.add(layers.Dense(2, activation='softmax'))\n",
    "\n",
    "# Compile the model\n",
    "model.compile(optimizer='adam', loss='categorical_crossentropy', metrics=['accuracy'])\n",
    "\n",
    "# Print a summary of the model architecture\n",
    "model.summary()\n"
   ]
  },
  {
   "cell_type": "code",
   "execution_count": 26,
   "id": "876ca7ab",
   "metadata": {},
   "outputs": [
    {
     "name": "stdout",
     "output_type": "stream",
     "text": [
      "Epoch 1/30\n",
      "196/196 [==============================] - 3s 6ms/step - loss: 1.4909 - accuracy: 0.5461\n",
      "Epoch 2/30\n",
      "196/196 [==============================] - 1s 7ms/step - loss: 0.6793 - accuracy: 0.5756\n",
      "Epoch 3/30\n",
      "196/196 [==============================] - 1s 7ms/step - loss: 0.6763 - accuracy: 0.5782\n",
      "Epoch 4/30\n",
      "196/196 [==============================] - 2s 8ms/step - loss: 0.6689 - accuracy: 0.5947\n",
      "Epoch 5/30\n",
      "196/196 [==============================] - 1s 6ms/step - loss: 0.6627 - accuracy: 0.6054\n",
      "Epoch 6/30\n",
      "196/196 [==============================] - 1s 6ms/step - loss: 0.6533 - accuracy: 0.6204\n",
      "Epoch 7/30\n",
      "196/196 [==============================] - 1s 6ms/step - loss: 0.6470 - accuracy: 0.6306\n",
      "Epoch 8/30\n",
      "196/196 [==============================] - 1s 7ms/step - loss: 0.6521 - accuracy: 0.6174\n",
      "Epoch 9/30\n",
      "196/196 [==============================] - 1s 6ms/step - loss: 0.6383 - accuracy: 0.6360\n",
      "Epoch 10/30\n",
      "196/196 [==============================] - 2s 8ms/step - loss: 0.6274 - accuracy: 0.6509\n",
      "Epoch 11/30\n",
      "196/196 [==============================] - 2s 9ms/step - loss: 0.6247 - accuracy: 0.6527\n",
      "Epoch 12/30\n",
      "196/196 [==============================] - 1s 7ms/step - loss: 0.6140 - accuracy: 0.6678\n",
      "Epoch 13/30\n",
      "196/196 [==============================] - 2s 9ms/step - loss: 0.6082 - accuracy: 0.6689\n",
      "Epoch 14/30\n",
      "196/196 [==============================] - 2s 9ms/step - loss: 0.6035 - accuracy: 0.6735\n",
      "Epoch 15/30\n",
      "196/196 [==============================] - 2s 11ms/step - loss: 0.5949 - accuracy: 0.6857\n",
      "Epoch 16/30\n",
      "196/196 [==============================] - 2s 10ms/step - loss: 0.5860 - accuracy: 0.6918\n",
      "Epoch 17/30\n",
      "196/196 [==============================] - 2s 8ms/step - loss: 0.5746 - accuracy: 0.6986\n",
      "Epoch 18/30\n",
      "196/196 [==============================] - 2s 9ms/step - loss: 0.5655 - accuracy: 0.7098\n",
      "Epoch 19/30\n",
      "196/196 [==============================] - 1s 8ms/step - loss: 0.5645 - accuracy: 0.7114\n",
      "Epoch 20/30\n",
      "196/196 [==============================] - 2s 9ms/step - loss: 0.5546 - accuracy: 0.7227\n",
      "Epoch 21/30\n",
      "196/196 [==============================] - 2s 10ms/step - loss: 0.5579 - accuracy: 0.7136\n",
      "Epoch 22/30\n",
      "196/196 [==============================] - 2s 11ms/step - loss: 0.5444 - accuracy: 0.7274\n",
      "Epoch 23/30\n",
      "196/196 [==============================] - 2s 10ms/step - loss: 0.5245 - accuracy: 0.7415\n",
      "Epoch 24/30\n",
      "196/196 [==============================] - 2s 9ms/step - loss: 0.5084 - accuracy: 0.7427\n",
      "Epoch 25/30\n",
      "196/196 [==============================] - 2s 9ms/step - loss: 0.5059 - accuracy: 0.7480\n",
      "Epoch 26/30\n",
      "196/196 [==============================] - 2s 11ms/step - loss: 0.4907 - accuracy: 0.7624\n",
      "Epoch 27/30\n",
      "196/196 [==============================] - 2s 12ms/step - loss: 0.4811 - accuracy: 0.7623\n",
      "Epoch 28/30\n",
      "196/196 [==============================] - 2s 11ms/step - loss: 0.4729 - accuracy: 0.7669\n",
      "Epoch 29/30\n",
      "196/196 [==============================] - 2s 11ms/step - loss: 0.4761 - accuracy: 0.7635\n",
      "Epoch 30/30\n",
      "196/196 [==============================] - 2s 12ms/step - loss: 0.4617 - accuracy: 0.7717\n"
     ]
    },
    {
     "data": {
      "text/plain": [
       "Text(0.5, 1.0, 'Plot of Accuracy vs. Epochs')"
      ]
     },
     "execution_count": 26,
     "metadata": {},
     "output_type": "execute_result"
    },
    {
     "data": {
      "image/png": "[encoded data removed]",
      "text/plain": [
       "<Figure size 640x480 with 1 Axes>"
      ]
     },
     "metadata": {},
     "output_type": "display_data"
    }
   ],
   "source": [
    "# training the 1D CNN model\n",
    "m=model.fit(X_train, y_train_encoded, epochs=30, batch_size=64)\n",
    "acr=m.history['accuracy']\n",
    "num=range(1,len(acr)+1)\n",
    "plt.plot(num,acr)\n",
    "plt.xlabel('Epoch')\n",
    "plt.ylabel('Accuracy')\n",
    "plt.title('Plot of Accuracy vs. Epochs')"
   ]
  },
  {
   "cell_type": "code",
   "execution_count": 27,
   "metadata": {},
   "outputs": [
    {
     "data": {
      "text/plain": [
       "<keras.src.callbacks.History at 0x1f11c04ad10>"
      ]
     },
     "execution_count": 27,
     "metadata": {},
     "output_type": "execute_result"
    }
   ],
   "source": [
    "m"
   ]
  },
  {
   "cell_type": "code",
   "execution_count": 28,
   "id": "f5b3aa1e",
   "metadata": {},
   "outputs": [
    {
     "name": "stdout",
     "output_type": "stream",
     "text": [
      "168/168 [==============================] - 1s 5ms/step\n"
     ]
    }
   ],
   "source": [
    "# Predict using the loaded model\n",
    "y_pred = model.predict(X_test)"
   ]
  },
  {
   "cell_type": "code",
   "execution_count": 29,
   "id": "3ec96de7",
   "metadata": {},
   "outputs": [],
   "source": [
    "# Convert probabilities to predicted classes\n",
    "y_pred_classes = np.argmax(y_pred, axis=1)"
   ]
  },
  {
   "cell_type": "code",
   "execution_count": 37,
   "id": "5f925ea3",
   "metadata": {
    "scrolled": true
   },
   "outputs": [
    {
     "data": {
      "image/png": "[encoded data removed]",
      "text/plain": [
       "<Figure size 640x480 with 2 Axes>"
      ]
     },
     "metadata": {},
     "output_type": "display_data"
    }
   ],
   "source": [
    "# CONFUSION MATRIX\n",
    "\n",
    "cm = confusion_matrix(y_test, y_pred_classes)\n",
    "\n",
    "# Display the confusion matrix\n",
    "classes = [\"fake\", \"real\"]\n",
    "disp = ConfusionMatrixDisplay(confusion_matrix=cm, display_labels=classes)\n",
    "disp.plot(cmap=plt.cm.Blues)\n",
    "plt.title(\"Confusion Matrix\")\n",
    "plt.show()"
   ]
  },
  {
   "cell_type": "code",
   "execution_count": 31,
   "id": "fe28394f",
   "metadata": {},
   "outputs": [
    {
     "data": {
      "text/plain": [
       "0.7437523312196942"
      ]
     },
     "execution_count": 31,
     "metadata": {},
     "output_type": "execute_result"
    }
   ],
   "source": [
    "accuracy_score(y_test, y_pred_classes)"
   ]
  },
  {
   "cell_type": "code",
   "execution_count": 32,
   "id": "f055dd5b",
   "metadata": {
    "scrolled": true
   },
   "outputs": [
    {
     "name": "stdout",
     "output_type": "stream",
     "text": [
      "168/168 [==============================] - 1s 5ms/step\n"
     ]
    },
    {
     "data": {
      "image/png": "[encoded data removed]",
      "text/plain": [
       "<Figure size 640x480 with 1 Axes>"
      ]
     },
     "metadata": {},
     "output_type": "display_data"
    }
   ],
   "source": [
    "# ROC Curve\n",
    "\n",
    "from sklearn.metrics import roc_curve, auc\n",
    "\n",
    "# Predict using the loaded model\n",
    "y_pred = model.predict(X_test)\n",
    "\n",
    "# Get the predicted probabilities for the positive class\n",
    "y_pred_prob = y_pred[:, 1]\n",
    "\n",
    "# Compute ROC curve and AUC\n",
    "fpr, tpr, _ = roc_curve(y_test, y_pred_prob)\n",
    "roc_auc = auc(fpr, tpr)\n",
    "\n",
    "# Plot ROC curve\n",
    "plt.figure()\n",
    "plt.plot(fpr, tpr, color='darkorange', lw=2, label='ROC curve (area = %0.2f)' % roc_auc)\n",
    "plt.plot([0, 1], [0, 1], color='navy', lw=2, linestyle='--')\n",
    "plt.xlim([0.0, 1.0])\n",
    "plt.ylim([0.0, 1.05])\n",
    "plt.xlabel('False Positive Rate')\n",
    "plt.ylabel('True Positive Rate')\n",
    "plt.title('Receiver Operating Characteristic')\n",
    "plt.legend(loc=\"lower right\")\n",
    "plt.show()"
   ]
  },
  {
   "cell_type": "code",
   "execution_count": 33,
   "id": "1a10e25b",
   "metadata": {},
   "outputs": [],
   "source": [
    "# Precision-Recall Curve\n",
    "from sklearn.metrics import precision_recall_curve, average_precision_score"
   ]
  },
  {
   "cell_type": "code",
   "execution_count": 34,
   "id": "89696c14",
   "metadata": {},
   "outputs": [
    {
     "data": {
      "image/png": "[encoded data removed]",
      "text/plain": [
       "<Figure size 640x480 with 1 Axes>"
      ]
     },
     "metadata": {},
     "output_type": "display_data"
    }
   ],
   "source": [
    "# Compute precision-recall curve and average precision score\n",
    "precision, recall, _ = precision_recall_curve(y_test, y_pred_prob)\n",
    "avg_precision = average_precision_score(y_test, y_pred_prob)\n",
    "\n",
    "# Plot precision-recall curve\n",
    "plt.figure()\n",
    "plt.plot(recall, precision, color='darkorange', lw=2, label='Avg. Precision = %0.2f' % avg_precision)\n",
    "plt.xlabel('Recall')\n",
    "plt.ylabel('Precision')\n",
    "plt.title('Precision-Recall Curve')\n",
    "plt.legend(loc=\"lower left\")\n",
    "plt.show()"
   ]
  },
  {
   "cell_type": "code",
   "execution_count": 35,
   "id": "083c2f17",
   "metadata": {},
   "outputs": [],
   "source": [
    "# Calibration Curve\n",
    "from sklearn.calibration import calibration_curve"
   ]
  },
  {
   "cell_type": "code",
   "execution_count": 36,
   "id": "cfc613da",
   "metadata": {},
   "outputs": [
    {
     "data": {
      "image/png": "[encoded data removed]",
      "text/plain": [
       "<Figure size 640x480 with 1 Axes>"
      ]
     },
     "metadata": {},
     "output_type": "display_data"
    }
   ],
   "source": [
    "# Compute calibration curve\n",
    "prob_true, prob_pred = calibration_curve(y_test, y_pred_prob, n_bins=10)\n",
    "\n",
    "# Plot calibration curve\n",
    "plt.figure()\n",
    "plt.plot(prob_pred, prob_true, marker='o', label='Calibration curve', color='darkorange')\n",
    "plt.plot([0, 1], [0, 1], linestyle='--', color='navy', label='Perfectly calibrated')\n",
    "plt.xlabel('Mean Predicted Probability')\n",
    "plt.ylabel('Fraction of Positives')\n",
    "plt.title('Calibration Curve')\n",
    "plt.legend(loc=\"lower right\")\n",
    "plt.show()"
   ]
  },
  {
   "cell_type": "code",
   "execution_count": null,
   "id": "f7e61e32",
   "metadata": {},
   "outputs": [],
   "source": []
  },
  {
   "cell_type": "code",
   "execution_count": null,
   "id": "cff37935",
   "metadata": {},
   "outputs": [],
   "source": []
  }
 ],
 "metadata": {
  "kernelspec": {
   "display_name": "Python 3 (ipykernel)",
   "language": "python",
   "name": "python3"
  },
  "language_info": {
   "codemirror_mode": {
    "name": "ipython",
    "version": 3
   },
   "file_extension": ".py",
   "mimetype": "text/x-python",
   "name": "python",
   "nbconvert_exporter": "python",
   "pygments_lexer": "ipython3",
   "version": "3.11.5"
  }
 },
 "nbformat": 4,
 "nbformat_minor": 5
}
