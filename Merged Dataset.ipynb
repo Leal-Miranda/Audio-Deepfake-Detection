{
 "cells": [
  {
   "cell_type": "code",
   "execution_count": 1,
   "metadata": {},
   "outputs": [
    {
     "name": "stdout",
     "output_type": "stream",
     "text": [
      "D:\\Users\\Leal\\Desktop\\MSc ASA\\Semester 3\\Data Driven Analytics - 3\n"
     ]
    }
   ],
   "source": [
    "cd D:\\Users\\Leal\\Desktop\\MSc ASA\\Semester 3\\Data Driven Analytics - 3"
   ]
  },
  {
   "cell_type": "code",
   "execution_count": 2,
   "metadata": {},
   "outputs": [],
   "source": [
    "import pandas as pd\n",
    "d1=pd.read_csv('Training Files.csv')\n",
    "d2=pd.read_csv('Testing Files.csv')\n",
    "d3=pd.read_csv('Validation Files.csv')"
   ]
  },
  {
   "cell_type": "code",
   "execution_count": 3,
   "metadata": {},
   "outputs": [
    {
     "name": "stdout",
     "output_type": "stream",
     "text": [
      "17870\n"
     ]
    }
   ],
   "source": [
    "combined=pd.concat([d1,d2,d3],axis=0)\n",
    "combined.to_csv('Audio Data.csv')\n",
    "print(len(combined))"
   ]
  },
  {
   "cell_type": "code",
   "execution_count": 6,
   "metadata": {},
   "outputs": [
    {
     "data": {
      "text/plain": [
       "17870"
      ]
     },
     "execution_count": 6,
     "metadata": {},
     "output_type": "execute_result"
    }
   ],
   "source": [
    "13956+1088+2826"
   ]
  }
 ],
 "metadata": {
  "kernelspec": {
   "display_name": "base",
   "language": "python",
   "name": "python3"
  },
  "language_info": {
   "codemirror_mode": {
    "name": "ipython",
    "version": 3
   },
   "file_extension": ".py",
   "mimetype": "text/x-python",
   "name": "python",
   "nbconvert_exporter": "python",
   "pygments_lexer": "ipython3",
   "version": "3.11.5"
  }
 },
 "nbformat": 4,
 "nbformat_minor": 2
}
